{
 "cells": [
  {
   "cell_type": "code",
   "execution_count": 162,
   "id": "fa1bfd22",
   "metadata": {},
   "outputs": [],
   "source": [
    "from selenium import webdriver\n",
    "from selenium.webdriver.common.by import By\n",
    "from selenium.webdriver.support.ui import WebDriverWait\n",
    "from selenium.webdriver.support import expected_conditions as EC\n",
    "import numpy as np\n",
    "from datetime import datetime\n",
    "import pandas as pd\n",
    "import time\n",
    "\n",
    "df_joueurs = pd.read_csv('premier_league_joueurs_2024_2025.csv')\n",
    "df_matchs = pd.read_csv('premier_league_matchs_2024_2025.csv')\n"
   ]
  },
  {
   "cell_type": "markdown",
   "id": "5a79a014",
   "metadata": {},
   "source": [
    "# Afficher les valeurs manquantes AVANT\n",
    "\n"
   ]
  },
  {
   "cell_type": "code",
   "execution_count": 163,
   "id": "7c3d8a54",
   "metadata": {},
   "outputs": [
    {
     "name": "stdout",
     "output_type": "stream",
     "text": [
      "equipe            0\n",
      "joueur            0\n",
      "nationalite      46\n",
      "poste            40\n",
      "age               5\n",
      "matchs_joues      0\n",
      "minutes         128\n",
      "dtype: int64\n"
     ]
    }
   ],
   "source": [
    "print(df_joueurs.isnull().sum())\n"
   ]
  },
  {
   "cell_type": "code",
   "execution_count": 164,
   "id": "6a6204f9",
   "metadata": {},
   "outputs": [
    {
     "name": "stderr",
     "output_type": "stream",
     "text": [
      "C:\\Users\\abirm\\AppData\\Local\\Temp\\ipykernel_14588\\1359344579.py:1: FutureWarning: A value is trying to be set on a copy of a DataFrame or Series through chained assignment using an inplace method.\n",
      "The behavior will change in pandas 3.0. This inplace method will never work because the intermediate object on which we are setting values always behaves as a copy.\n",
      "\n",
      "For example, when doing 'df[col].method(value, inplace=True)', try using 'df.method({col: value}, inplace=True)' or df[col] = df[col].method(value) instead, to perform the operation inplace on the original object.\n",
      "\n",
      "\n",
      "  df_joueurs[\"minutes\"].fillna(0, inplace=True)\n",
      "C:\\Users\\abirm\\AppData\\Local\\Temp\\ipykernel_14588\\1359344579.py:2: FutureWarning: A value is trying to be set on a copy of a DataFrame or Series through chained assignment using an inplace method.\n",
      "The behavior will change in pandas 3.0. This inplace method will never work because the intermediate object on which we are setting values always behaves as a copy.\n",
      "\n",
      "For example, when doing 'df[col].method(value, inplace=True)', try using 'df.method({col: value}, inplace=True)' or df[col] = df[col].method(value) instead, to perform the operation inplace on the original object.\n",
      "\n",
      "\n",
      "  df_joueurs[\"age\"].fillna(0, inplace=True)\n"
     ]
    }
   ],
   "source": [
    "df_joueurs[\"minutes\"].fillna(0, inplace=True)\n",
    "df_joueurs[\"age\"].fillna(0, inplace=True)\n"
   ]
  },
  {
   "cell_type": "code",
   "execution_count": null,
   "id": "4b554818",
   "metadata": {},
   "outputs": [],
   "source": []
  },
  {
   "cell_type": "code",
   "execution_count": 165,
   "id": "bb607128",
   "metadata": {},
   "outputs": [],
   "source": [
    "df_joueurs.dropna(subset=['poste'], inplace=True)\n"
   ]
  },
  {
   "cell_type": "markdown",
   "id": "ed3dd40f",
   "metadata": {},
   "source": [
    "# Afficher les valeurs manquantes APRES"
   ]
  },
  {
   "cell_type": "code",
   "execution_count": 166,
   "id": "7a3aa22e",
   "metadata": {},
   "outputs": [
    {
     "data": {
      "text/plain": [
       "equipe          0\n",
       "joueur          0\n",
       "nationalite     6\n",
       "poste           0\n",
       "age             0\n",
       "matchs_joues    0\n",
       "minutes         0\n",
       "dtype: int64"
      ]
     },
     "execution_count": 166,
     "metadata": {},
     "output_type": "execute_result"
    }
   ],
   "source": [
    "df_joueurs.isna().sum()"
   ]
  },
  {
   "cell_type": "code",
   "execution_count": 167,
   "id": "728329b7",
   "metadata": {},
   "outputs": [
    {
     "data": {
      "text/html": [
       "<div>\n",
       "<style scoped>\n",
       "    .dataframe tbody tr th:only-of-type {\n",
       "        vertical-align: middle;\n",
       "    }\n",
       "\n",
       "    .dataframe tbody tr th {\n",
       "        vertical-align: top;\n",
       "    }\n",
       "\n",
       "    .dataframe thead th {\n",
       "        text-align: right;\n",
       "    }\n",
       "</style>\n",
       "<table border=\"1\" class=\"dataframe\">\n",
       "  <thead>\n",
       "    <tr style=\"text-align: right;\">\n",
       "      <th></th>\n",
       "      <th>equipe</th>\n",
       "      <th>joueur</th>\n",
       "      <th>nationalite</th>\n",
       "      <th>poste</th>\n",
       "      <th>age</th>\n",
       "      <th>matchs_joues</th>\n",
       "      <th>minutes</th>\n",
       "    </tr>\n",
       "  </thead>\n",
       "  <tbody>\n",
       "    <tr>\n",
       "      <th>572</th>\n",
       "      <td>Wolves</td>\n",
       "      <td>Mateus Mane</td>\n",
       "      <td>NaN</td>\n",
       "      <td>MF</td>\n",
       "      <td>0.0</td>\n",
       "      <td>1</td>\n",
       "      <td>2</td>\n",
       "    </tr>\n",
       "    <tr>\n",
       "      <th>651</th>\n",
       "      <td>Leicester City</td>\n",
       "      <td>Jeremy Monga</td>\n",
       "      <td>NaN</td>\n",
       "      <td>FW,MF</td>\n",
       "      <td>15.0</td>\n",
       "      <td>7</td>\n",
       "      <td>112</td>\n",
       "    </tr>\n",
       "    <tr>\n",
       "      <th>653</th>\n",
       "      <td>Leicester City</td>\n",
       "      <td>Jake Evans</td>\n",
       "      <td>NaN</td>\n",
       "      <td>FW</td>\n",
       "      <td>0.0</td>\n",
       "      <td>4</td>\n",
       "      <td>24</td>\n",
       "    </tr>\n",
       "    <tr>\n",
       "      <th>654</th>\n",
       "      <td>Leicester City</td>\n",
       "      <td>Olabade Aluko</td>\n",
       "      <td>NaN</td>\n",
       "      <td>DF</td>\n",
       "      <td>0.0</td>\n",
       "      <td>1</td>\n",
       "      <td>2</td>\n",
       "    </tr>\n",
       "    <tr>\n",
       "      <th>699</th>\n",
       "      <td>Ipswich Town</td>\n",
       "      <td>Tom Taylor</td>\n",
       "      <td>NaN</td>\n",
       "      <td>MF</td>\n",
       "      <td>0.0</td>\n",
       "      <td>0</td>\n",
       "      <td>0</td>\n",
       "    </tr>\n",
       "    <tr>\n",
       "      <th>738</th>\n",
       "      <td>Southampton</td>\n",
       "      <td>Jayden Moore</td>\n",
       "      <td>NaN</td>\n",
       "      <td>DF</td>\n",
       "      <td>0.0</td>\n",
       "      <td>0</td>\n",
       "      <td>0</td>\n",
       "    </tr>\n",
       "  </tbody>\n",
       "</table>\n",
       "</div>"
      ],
      "text/plain": [
       "             equipe         joueur nationalite  poste   age  matchs_joues  \\\n",
       "572          Wolves    Mateus Mane         NaN     MF   0.0             1   \n",
       "651  Leicester City   Jeremy Monga         NaN  FW,MF  15.0             7   \n",
       "653  Leicester City     Jake Evans         NaN     FW   0.0             4   \n",
       "654  Leicester City  Olabade Aluko         NaN     DF   0.0             1   \n",
       "699    Ipswich Town     Tom Taylor         NaN     MF   0.0             0   \n",
       "738     Southampton   Jayden Moore         NaN     DF   0.0             0   \n",
       "\n",
       "    minutes  \n",
       "572       2  \n",
       "651     112  \n",
       "653      24  \n",
       "654       2  \n",
       "699       0  \n",
       "738       0  "
      ]
     },
     "execution_count": 167,
     "metadata": {},
     "output_type": "execute_result"
    }
   ],
   "source": [
    "df_joueurs[df_joueurs.isna().any(axis=1)]\n"
   ]
  },
  {
   "cell_type": "code",
   "execution_count": 168,
   "id": "bc766393",
   "metadata": {},
   "outputs": [],
   "source": [
    "df_joueurs.loc[df_joueurs[\"joueur\"] == \"Mateus Mane\", \"nationalite\"] = \"Portugaise\"\n",
    "df_joueurs.loc[df_joueurs[\"joueur\"] == \"Jeremy Monga\", \"nationalite\"] = \"Française\"\n",
    "df_joueurs.loc[df_joueurs[\"joueur\"] == \"Jake Evans\", \"nationalite\"] = \"Anglaise\"\n",
    "df_joueurs.loc[df_joueurs[\"joueur\"] == \"Olabade Aluko\", \"nationalite\"] = \"Anglaise\"\n",
    "df_joueurs.loc[df_joueurs[\"joueur\"] == \"Tom Taylor\", \"nationalite\"] = \"Anglaise\"\n",
    "df_joueurs.loc[df_joueurs[\"joueur\"] == \"Jayden Moore\", \"nationalite\"] = \"Anglaise\"\n"
   ]
  },
  {
   "cell_type": "code",
   "execution_count": 169,
   "id": "a6878805",
   "metadata": {},
   "outputs": [
    {
     "data": {
      "text/plain": [
       "equipe          0\n",
       "joueur          0\n",
       "nationalite     0\n",
       "poste           0\n",
       "age             0\n",
       "matchs_joues    0\n",
       "minutes         0\n",
       "dtype: int64"
      ]
     },
     "execution_count": 169,
     "metadata": {},
     "output_type": "execute_result"
    }
   ],
   "source": [
    "df_joueurs.isna().sum()"
   ]
  },
  {
   "cell_type": "code",
   "execution_count": 170,
   "id": "b662d774",
   "metadata": {},
   "outputs": [
    {
     "data": {
      "text/plain": [
       "date             0\n",
       "start_time       0\n",
       "comp             0\n",
       "round            0\n",
       "dayofweek        0\n",
       "venue            0\n",
       "result           0\n",
       "goals_for        0\n",
       "goals_against    0\n",
       "opponent         0\n",
       "xg_for           0\n",
       "xg_against       0\n",
       "possession       0\n",
       "attendance       0\n",
       "captain          0\n",
       "formation        0\n",
       "opp_formation    0\n",
       "referee          0\n",
       "team             0\n",
       "dtype: int64"
      ]
     },
     "execution_count": 170,
     "metadata": {},
     "output_type": "execute_result"
    }
   ],
   "source": [
    "df_matchs.isna().sum()"
   ]
  },
  {
   "cell_type": "markdown",
   "id": "103fb0a0",
   "metadata": {},
   "source": [
    "# Supprimer les doublons\n"
   ]
  },
  {
   "cell_type": "code",
   "execution_count": 171,
   "id": "920a6614",
   "metadata": {},
   "outputs": [
    {
     "name": "stdout",
     "output_type": "stream",
     "text": [
      "0\n"
     ]
    }
   ],
   "source": [
    "\n",
    "duplicates_before = df_joueurs.duplicated().sum()\n",
    "print(duplicates_before)\n",
    "df_joueurs = df_joueurs.drop_duplicates()"
   ]
  },
  {
   "cell_type": "code",
   "execution_count": 172,
   "id": "d6c2521e",
   "metadata": {},
   "outputs": [
    {
     "data": {
      "text/plain": [
       "760"
      ]
     },
     "execution_count": 172,
     "metadata": {},
     "output_type": "execute_result"
    }
   ],
   "source": [
    "len(df_matchs)"
   ]
  },
  {
   "cell_type": "code",
   "execution_count": 173,
   "id": "e970ea98",
   "metadata": {},
   "outputs": [],
   "source": [
    "df_matchs = df_matchs[df_matchs['venue'] == 'Home'].copy()\n"
   ]
  },
  {
   "cell_type": "code",
   "execution_count": 174,
   "id": "1e752cd5",
   "metadata": {},
   "outputs": [
    {
     "data": {
      "text/plain": [
       "380"
      ]
     },
     "execution_count": 174,
     "metadata": {},
     "output_type": "execute_result"
    }
   ],
   "source": [
    "len(df_matchs)\n"
   ]
  },
  {
   "cell_type": "markdown",
   "id": "1f0e54ef",
   "metadata": {},
   "source": [
    "# harmoniser "
   ]
  },
  {
   "cell_type": "code",
   "execution_count": 180,
   "id": "ff96473a",
   "metadata": {},
   "outputs": [],
   "source": [
    "df_joueurs.columns = df_joueurs.columns.str.lower().str.strip().str.replace(' ', '_')\n",
    "df_matchs.columns = df_matchs.columns.str.lower().str.strip().str.replace(' ', '_')"
   ]
  },
  {
   "cell_type": "code",
   "execution_count": 181,
   "id": "9efe3bde",
   "metadata": {},
   "outputs": [
    {
     "data": {
      "text/html": [
       "<div>\n",
       "<style scoped>\n",
       "    .dataframe tbody tr th:only-of-type {\n",
       "        vertical-align: middle;\n",
       "    }\n",
       "\n",
       "    .dataframe tbody tr th {\n",
       "        vertical-align: top;\n",
       "    }\n",
       "\n",
       "    .dataframe thead th {\n",
       "        text-align: right;\n",
       "    }\n",
       "</style>\n",
       "<table border=\"1\" class=\"dataframe\">\n",
       "  <thead>\n",
       "    <tr style=\"text-align: right;\">\n",
       "      <th></th>\n",
       "      <th>equipe</th>\n",
       "      <th>joueur</th>\n",
       "      <th>nationalite</th>\n",
       "      <th>poste</th>\n",
       "      <th>age</th>\n",
       "      <th>matchs_joues</th>\n",
       "      <th>minutes</th>\n",
       "    </tr>\n",
       "  </thead>\n",
       "  <tbody>\n",
       "    <tr>\n",
       "      <th>0</th>\n",
       "      <td>Liverpool</td>\n",
       "      <td>Mohamed Salah</td>\n",
       "      <td>eg EGY</td>\n",
       "      <td>FW</td>\n",
       "      <td>32</td>\n",
       "      <td>38</td>\n",
       "      <td>3371</td>\n",
       "    </tr>\n",
       "    <tr>\n",
       "      <th>1</th>\n",
       "      <td>Liverpool</td>\n",
       "      <td>Virgil van Dijk</td>\n",
       "      <td>nl NED</td>\n",
       "      <td>DF</td>\n",
       "      <td>33</td>\n",
       "      <td>37</td>\n",
       "      <td>3330</td>\n",
       "    </tr>\n",
       "    <tr>\n",
       "      <th>2</th>\n",
       "      <td>Liverpool</td>\n",
       "      <td>Ryan Gravenberch</td>\n",
       "      <td>nl NED</td>\n",
       "      <td>MF</td>\n",
       "      <td>22</td>\n",
       "      <td>37</td>\n",
       "      <td>3160</td>\n",
       "    </tr>\n",
       "    <tr>\n",
       "      <th>3</th>\n",
       "      <td>Liverpool</td>\n",
       "      <td>Alexis Mac Allister</td>\n",
       "      <td>ar ARG</td>\n",
       "      <td>MF</td>\n",
       "      <td>25</td>\n",
       "      <td>35</td>\n",
       "      <td>2599</td>\n",
       "    </tr>\n",
       "    <tr>\n",
       "      <th>4</th>\n",
       "      <td>Liverpool</td>\n",
       "      <td>Ibrahima Konaté</td>\n",
       "      <td>fr FRA</td>\n",
       "      <td>DF</td>\n",
       "      <td>25</td>\n",
       "      <td>31</td>\n",
       "      <td>2560</td>\n",
       "    </tr>\n",
       "  </tbody>\n",
       "</table>\n",
       "</div>"
      ],
      "text/plain": [
       "      equipe               joueur nationalite poste  age  matchs_joues  \\\n",
       "0  Liverpool        Mohamed Salah      eg EGY    FW   32            38   \n",
       "1  Liverpool      Virgil van Dijk      nl NED    DF   33            37   \n",
       "2  Liverpool     Ryan Gravenberch      nl NED    MF   22            37   \n",
       "3  Liverpool  Alexis Mac Allister      ar ARG    MF   25            35   \n",
       "4  Liverpool      Ibrahima Konaté      fr FRA    DF   25            31   \n",
       "\n",
       "   minutes  \n",
       "0     3371  \n",
       "1     3330  \n",
       "2     3160  \n",
       "3     2599  \n",
       "4     2560  "
      ]
     },
     "execution_count": 181,
     "metadata": {},
     "output_type": "execute_result"
    }
   ],
   "source": [
    "df_joueurs.head()"
   ]
  },
  {
   "cell_type": "markdown",
   "id": "1643e133",
   "metadata": {},
   "source": [
    "# Convertir les types de données\n"
   ]
  },
  {
   "cell_type": "code",
   "execution_count": 176,
   "id": "377e50c3",
   "metadata": {},
   "outputs": [],
   "source": [
    "df_joueurs[\"age\"] = df_joueurs[\"age\"].astype(int)\n",
    "df_joueurs[\"minutes\"] = df_joueurs[\"minutes\"].str.replace(',', '').astype(float).astype('Int64')\n",
    "df_matchs['date'] = pd.to_datetime(df_matchs['date'], format='%Y-%m-%d')\n",
    "numeric_cols = ['goals_for', 'goals_against', 'xg_for', 'xg_against', 'possession']\n",
    "for col in numeric_cols:\n",
    "    df_matchs[col] = pd.to_numeric(df_matchs[col], errors='coerce')\n",
    "text_cols_matchs = ['team', 'opponent', 'captain', 'referee', 'comp', 'round', 'venue', 'result', 'dayofweek', 'formation', 'opp_formation']\n",
    "for col in text_cols_matchs:\n",
    "    if col in df_matchs.columns:\n",
    "        df_matchs[col] = df_matchs[col].str.strip()\n",
    "        \n",
    "text_cols_joueurs = ['joueur', 'equipe', 'poste', 'nationalite']\n",
    "for col in text_cols_joueurs:\n",
    "    if col in df_joueurs.columns:\n",
    "        df_joueurs[col] = df_joueurs[col].str.strip()\n",
    "    \n"
   ]
  },
  {
   "cell_type": "code",
   "execution_count": 177,
   "id": "3324b487",
   "metadata": {},
   "outputs": [
    {
     "data": {
      "text/html": [
       "<div>\n",
       "<style scoped>\n",
       "    .dataframe tbody tr th:only-of-type {\n",
       "        vertical-align: middle;\n",
       "    }\n",
       "\n",
       "    .dataframe tbody tr th {\n",
       "        vertical-align: top;\n",
       "    }\n",
       "\n",
       "    .dataframe thead th {\n",
       "        text-align: right;\n",
       "    }\n",
       "</style>\n",
       "<table border=\"1\" class=\"dataframe\">\n",
       "  <thead>\n",
       "    <tr style=\"text-align: right;\">\n",
       "      <th></th>\n",
       "      <th>equipe</th>\n",
       "      <th>joueur</th>\n",
       "      <th>nationalite</th>\n",
       "      <th>poste</th>\n",
       "      <th>age</th>\n",
       "      <th>matchs_joues</th>\n",
       "      <th>minutes</th>\n",
       "    </tr>\n",
       "  </thead>\n",
       "  <tbody>\n",
       "    <tr>\n",
       "      <th>0</th>\n",
       "      <td>Liverpool</td>\n",
       "      <td>Mohamed Salah</td>\n",
       "      <td>eg EGY</td>\n",
       "      <td>FW</td>\n",
       "      <td>32</td>\n",
       "      <td>38</td>\n",
       "      <td>3371</td>\n",
       "    </tr>\n",
       "    <tr>\n",
       "      <th>1</th>\n",
       "      <td>Liverpool</td>\n",
       "      <td>Virgil van Dijk</td>\n",
       "      <td>nl NED</td>\n",
       "      <td>DF</td>\n",
       "      <td>33</td>\n",
       "      <td>37</td>\n",
       "      <td>3330</td>\n",
       "    </tr>\n",
       "    <tr>\n",
       "      <th>2</th>\n",
       "      <td>Liverpool</td>\n",
       "      <td>Ryan Gravenberch</td>\n",
       "      <td>nl NED</td>\n",
       "      <td>MF</td>\n",
       "      <td>22</td>\n",
       "      <td>37</td>\n",
       "      <td>3160</td>\n",
       "    </tr>\n",
       "    <tr>\n",
       "      <th>3</th>\n",
       "      <td>Liverpool</td>\n",
       "      <td>Alexis Mac Allister</td>\n",
       "      <td>ar ARG</td>\n",
       "      <td>MF</td>\n",
       "      <td>25</td>\n",
       "      <td>35</td>\n",
       "      <td>2599</td>\n",
       "    </tr>\n",
       "    <tr>\n",
       "      <th>4</th>\n",
       "      <td>Liverpool</td>\n",
       "      <td>Ibrahima Konaté</td>\n",
       "      <td>fr FRA</td>\n",
       "      <td>DF</td>\n",
       "      <td>25</td>\n",
       "      <td>31</td>\n",
       "      <td>2560</td>\n",
       "    </tr>\n",
       "  </tbody>\n",
       "</table>\n",
       "</div>"
      ],
      "text/plain": [
       "      equipe               joueur nationalite poste  age  matchs_joues  \\\n",
       "0  Liverpool        Mohamed Salah      eg EGY    FW   32            38   \n",
       "1  Liverpool      Virgil van Dijk      nl NED    DF   33            37   \n",
       "2  Liverpool     Ryan Gravenberch      nl NED    MF   22            37   \n",
       "3  Liverpool  Alexis Mac Allister      ar ARG    MF   25            35   \n",
       "4  Liverpool      Ibrahima Konaté      fr FRA    DF   25            31   \n",
       "\n",
       "   minutes  \n",
       "0     3371  \n",
       "1     3330  \n",
       "2     3160  \n",
       "3     2599  \n",
       "4     2560  "
      ]
     },
     "execution_count": 177,
     "metadata": {},
     "output_type": "execute_result"
    }
   ],
   "source": [
    "df_joueurs.head()\n"
   ]
  },
  {
   "cell_type": "markdown",
   "id": "964c52a2",
   "metadata": {},
   "source": []
  },
  {
   "cell_type": "code",
   "execution_count": 178,
   "id": "41cd049c",
   "metadata": {},
   "outputs": [
    {
     "data": {
      "text/html": [
       "<div>\n",
       "<style scoped>\n",
       "    .dataframe tbody tr th:only-of-type {\n",
       "        vertical-align: middle;\n",
       "    }\n",
       "\n",
       "    .dataframe tbody tr th {\n",
       "        vertical-align: top;\n",
       "    }\n",
       "\n",
       "    .dataframe thead th {\n",
       "        text-align: right;\n",
       "    }\n",
       "</style>\n",
       "<table border=\"1\" class=\"dataframe\">\n",
       "  <thead>\n",
       "    <tr style=\"text-align: right;\">\n",
       "      <th></th>\n",
       "      <th>date</th>\n",
       "      <th>start_time</th>\n",
       "      <th>comp</th>\n",
       "      <th>round</th>\n",
       "      <th>dayofweek</th>\n",
       "      <th>venue</th>\n",
       "      <th>result</th>\n",
       "      <th>goals_for</th>\n",
       "      <th>goals_against</th>\n",
       "      <th>opponent</th>\n",
       "      <th>xg_for</th>\n",
       "      <th>xg_against</th>\n",
       "      <th>possession</th>\n",
       "      <th>attendance</th>\n",
       "      <th>captain</th>\n",
       "      <th>formation</th>\n",
       "      <th>opp_formation</th>\n",
       "      <th>referee</th>\n",
       "      <th>team</th>\n",
       "    </tr>\n",
       "  </thead>\n",
       "  <tbody>\n",
       "    <tr>\n",
       "      <th>1</th>\n",
       "      <td>2024-08-25</td>\n",
       "      <td>16:30</td>\n",
       "      <td>Premier League</td>\n",
       "      <td>Matchweek 2</td>\n",
       "      <td>Sun</td>\n",
       "      <td>Home</td>\n",
       "      <td>W</td>\n",
       "      <td>2</td>\n",
       "      <td>0</td>\n",
       "      <td>Brentford</td>\n",
       "      <td>2.5</td>\n",
       "      <td>0.5</td>\n",
       "      <td>62</td>\n",
       "      <td>60,017</td>\n",
       "      <td>Virgil van Dijk</td>\n",
       "      <td>4-2-3-1</td>\n",
       "      <td>4-4-2</td>\n",
       "      <td>Stuart Attwell</td>\n",
       "      <td>Liverpool</td>\n",
       "    </tr>\n",
       "    <tr>\n",
       "      <th>3</th>\n",
       "      <td>2024-09-14</td>\n",
       "      <td>15:00</td>\n",
       "      <td>Premier League</td>\n",
       "      <td>Matchweek 4</td>\n",
       "      <td>Sat</td>\n",
       "      <td>Home</td>\n",
       "      <td>L</td>\n",
       "      <td>0</td>\n",
       "      <td>1</td>\n",
       "      <td>Nott'ham Forest</td>\n",
       "      <td>0.9</td>\n",
       "      <td>0.4</td>\n",
       "      <td>68</td>\n",
       "      <td>60,344</td>\n",
       "      <td>Virgil van Dijk</td>\n",
       "      <td>4-2-3-1</td>\n",
       "      <td>4-2-3-1</td>\n",
       "      <td>Michael Oliver</td>\n",
       "      <td>Liverpool</td>\n",
       "    </tr>\n",
       "    <tr>\n",
       "      <th>4</th>\n",
       "      <td>2024-09-21</td>\n",
       "      <td>15:00</td>\n",
       "      <td>Premier League</td>\n",
       "      <td>Matchweek 5</td>\n",
       "      <td>Sat</td>\n",
       "      <td>Home</td>\n",
       "      <td>W</td>\n",
       "      <td>3</td>\n",
       "      <td>0</td>\n",
       "      <td>Bournemouth</td>\n",
       "      <td>2.0</td>\n",
       "      <td>1.1</td>\n",
       "      <td>58</td>\n",
       "      <td>60,347</td>\n",
       "      <td>Virgil van Dijk</td>\n",
       "      <td>4-2-3-1</td>\n",
       "      <td>4-2-3-1</td>\n",
       "      <td>Tony Harrington</td>\n",
       "      <td>Liverpool</td>\n",
       "    </tr>\n",
       "    <tr>\n",
       "      <th>7</th>\n",
       "      <td>2024-10-20</td>\n",
       "      <td>16:30</td>\n",
       "      <td>Premier League</td>\n",
       "      <td>Matchweek 8</td>\n",
       "      <td>Sun</td>\n",
       "      <td>Home</td>\n",
       "      <td>W</td>\n",
       "      <td>2</td>\n",
       "      <td>1</td>\n",
       "      <td>Chelsea</td>\n",
       "      <td>1.9</td>\n",
       "      <td>1.0</td>\n",
       "      <td>43</td>\n",
       "      <td>60,277</td>\n",
       "      <td>Virgil van Dijk</td>\n",
       "      <td>4-2-3-1</td>\n",
       "      <td>4-2-3-1</td>\n",
       "      <td>John Brooks</td>\n",
       "      <td>Liverpool</td>\n",
       "    </tr>\n",
       "    <tr>\n",
       "      <th>9</th>\n",
       "      <td>2024-11-02</td>\n",
       "      <td>15:00 (16:00)</td>\n",
       "      <td>Premier League</td>\n",
       "      <td>Matchweek 10</td>\n",
       "      <td>Sat</td>\n",
       "      <td>Home</td>\n",
       "      <td>W</td>\n",
       "      <td>2</td>\n",
       "      <td>1</td>\n",
       "      <td>Brighton</td>\n",
       "      <td>1.6</td>\n",
       "      <td>1.0</td>\n",
       "      <td>49</td>\n",
       "      <td>60,331</td>\n",
       "      <td>Virgil van Dijk</td>\n",
       "      <td>4-2-3-1</td>\n",
       "      <td>4-4-2</td>\n",
       "      <td>Tony Harrington</td>\n",
       "      <td>Liverpool</td>\n",
       "    </tr>\n",
       "  </tbody>\n",
       "</table>\n",
       "</div>"
      ],
      "text/plain": [
       "        date     start_time            comp         round dayofweek venue  \\\n",
       "1 2024-08-25          16:30  Premier League   Matchweek 2       Sun  Home   \n",
       "3 2024-09-14          15:00  Premier League   Matchweek 4       Sat  Home   \n",
       "4 2024-09-21          15:00  Premier League   Matchweek 5       Sat  Home   \n",
       "7 2024-10-20          16:30  Premier League   Matchweek 8       Sun  Home   \n",
       "9 2024-11-02  15:00 (16:00)  Premier League  Matchweek 10       Sat  Home   \n",
       "\n",
       "  result  goals_for  goals_against         opponent  xg_for  xg_against  \\\n",
       "1      W          2              0        Brentford     2.5         0.5   \n",
       "3      L          0              1  Nott'ham Forest     0.9         0.4   \n",
       "4      W          3              0      Bournemouth     2.0         1.1   \n",
       "7      W          2              1          Chelsea     1.9         1.0   \n",
       "9      W          2              1         Brighton     1.6         1.0   \n",
       "\n",
       "   possession attendance          captain formation opp_formation  \\\n",
       "1          62     60,017  Virgil van Dijk   4-2-3-1         4-4-2   \n",
       "3          68     60,344  Virgil van Dijk   4-2-3-1       4-2-3-1   \n",
       "4          58     60,347  Virgil van Dijk   4-2-3-1       4-2-3-1   \n",
       "7          43     60,277  Virgil van Dijk   4-2-3-1       4-2-3-1   \n",
       "9          49     60,331  Virgil van Dijk   4-2-3-1         4-4-2   \n",
       "\n",
       "           referee       team  \n",
       "1   Stuart Attwell  Liverpool  \n",
       "3   Michael Oliver  Liverpool  \n",
       "4  Tony Harrington  Liverpool  \n",
       "7      John Brooks  Liverpool  \n",
       "9  Tony Harrington  Liverpool  "
      ]
     },
     "execution_count": 178,
     "metadata": {},
     "output_type": "execute_result"
    }
   ],
   "source": [
    "df_matchs.head()"
   ]
  }
 ],
 "metadata": {
  "kernelspec": {
   "display_name": "Python 3",
   "language": "python",
   "name": "python3"
  },
  "language_info": {
   "codemirror_mode": {
    "name": "ipython",
    "version": 3
   },
   "file_extension": ".py",
   "mimetype": "text/x-python",
   "name": "python",
   "nbconvert_exporter": "python",
   "pygments_lexer": "ipython3",
   "version": "3.13.7"
  }
 },
 "nbformat": 4,
 "nbformat_minor": 5
}
